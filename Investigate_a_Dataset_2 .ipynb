{
 "cells": [
  {
   "cell_type": "markdown",
   "metadata": {},
   "source": [
    "\n",
    "\n",
    "# Projet 1: Analyse et exploration des données du site TMDB\n",
    "\n",
    "## Table des matières\n",
    "<ul>\n",
    "<li><a href=\"#intro\">Introduction</a></li>\n",
    "<li><a href=\"#wrangling\">Data Wrangling</a></li>\n",
    "<li><a href=\"#aed\">Analyse exploratoire des données</a></li>\n",
    "<li><a href=\"#conclusions\">Conclusions</a></li>\n",
    "</ul>"
   ]
  },
  {
   "cell_type": "markdown",
   "metadata": {},
   "source": [
    "<a id='intro'></a>\n",
    "## Introduction\n",
    "\n",
    "### Description de l’ensemble de données \n",
    " \n",
    "> Notre objectif dans cette étude est d'étudier des données de films du site TMDB. Ces données de films repertorient les informations sur les films produits entre 1960 et 2015. Cet ensemble de données contient des informations sur 10 000 films collectés à partir de The Movie Database (TMDb), y compris les évaluations des utilisateurs et les revenus.Lien des données: [cliquez-ici](https://www.kaggle.com/datasets/tmdb/tmdb-movie-metadata)\n"
   ]
  },
  {
   "cell_type": "markdown",
   "metadata": {},
   "source": [
    "### Ci-dessous un tableau repertoriant les noms des colonnes et leur signification : "
   ]
  },
  {
   "cell_type": "markdown",
   "metadata": {},
   "source": [
    "<table>\n",
    "\n",
    "<tr>    <td> Variables </td>                   <td> Signification<td>   </tr>                \n",
    "\n",
    "  <tr>   <td>  id </td>                  <td> identifiant du film </td> </tr>                  \n",
    " <tr>   <td> imdb_id </td>\t          <td>Identifiant du film du site IMDB </td> </tr>            \n",
    "  <tr> <td>  popularity </td>        <td> Popularité du film  </td> </tr>                                \n",
    "  <tr> <td>   Budjet  </td>            <td>  Budget Aloué au film  </td>  </tr>                  \n",
    " <tr>  <td>  revenue  </td>            <td> Revenu engendré par le film </td> </tr>                           \n",
    " <tr>  <td>  original_title</td>          <td> titre originel du film </td> </tr>                   \t                \n",
    " <tr>  <td>     cast   </td>             <td> Acteurs  ayant participé au film  </td> </tr>       \n",
    " <tr>  <td>    homepage </td>           <td> le site web du film  </td>  </tr>                   \n",
    " <tr>  <td>    director </td>           <td> Réalisateur du film   </td>  </tr>                 \n",
    " <tr>   <td>   tagline  </td>           <td> Phrase pour attirer l'attention des spectateurs </td> </tr> \n",
    " <tr>    <td>  keywords </td>          <td>  Mots clés </td>  </tr>                            \n",
    " <tr>   <td>  overview  </td>          <td>  Résumé du film  </td>  </tr>                   \n",
    "  <tr>   <td>  runtime  </td>          <td>  Temps de lecture du film  </td> </tr>                 \n",
    "  <tr>    <td> genres\t</td>          <td>  Genre du film </td> </tr>                            \n",
    "<tr>  <td> production_companies </td>    <td>  Compagnies de production du film </td> </tr>         \n",
    "  <tr>   <td> release_date  </td>       <td> Date de réalisation du film  </td>  </tr>            \n",
    " <tr>    <td> vote_count  </td>         <td> Nombre de vote  </td>   </tr>                        \n",
    " <tr>    <td>  vote_average </td>       <td> Moyennes des votes </td>  </tr>                          \n",
    " <tr>    <td>  release_year  </td>      <td> Années de realisation du film </td> </tr>            \n",
    "  \n",
    "<tr> <td> budget_adj </td>   <td>budget du film associé en termes de dollars 2010, en tenant compte de l’inflation au fil du temps</td></tr> \t        \n",
    "  <tr>  <td> revenue_adj </td>    <td>revenue du film associé en termes de dollars 2010, en tenant compte de l’inflation au fil du temps</td> </tr> \n",
    "    \n",
    "</table>\n",
    "\n"
   ]
  },
  {
   "cell_type": "markdown",
   "metadata": {},
   "source": [
    "### Dans ce projet, nous allons répondre aux questions suivantes:\n",
    ">\n",
    "- Quels genres de films sont les plus populaires d’année en année?\n",
    "- Quels types de propriétés sont associés aux films qui ont des revenus élevés?"
   ]
  },
  {
   "cell_type": "code",
   "execution_count": 20,
   "metadata": {},
   "outputs": [],
   "source": [
    "# importation des bibliothèques nécéssaires pour notre analyse.\n",
    "import pandas as pd\n",
    "import numpy as np\n",
    "import matplotlib.pyplot as plt\n",
    "import seaborn as sns\n",
    "%matplotlib inline\n"
   ]
  },
  {
   "cell_type": "code",
   "execution_count": null,
   "metadata": {
    "scrolled": true
   },
   "outputs": [],
   "source": [
    "# Mise à niveau pandas pour utiliser la fonction dataframe.explode().\n",
    "!pip install --upgrade pandas==0.25.0"
   ]
  },
  {
   "cell_type": "markdown",
   "metadata": {},
   "source": [
    "<a id='wrangling'></a>\n",
    "## Data Wrangling\n",
    "\n",
    "\n",
    "\n",
    "### Propriétes Génrales\n"
   ]
  },
  {
   "cell_type": "code",
   "execution_count": 21,
   "metadata": {
    "scrolled": false
   },
   "outputs": [
    {
     "data": {
      "text/html": [
       "<div>\n",
       "<style scoped>\n",
       "    .dataframe tbody tr th:only-of-type {\n",
       "        vertical-align: middle;\n",
       "    }\n",
       "\n",
       "    .dataframe tbody tr th {\n",
       "        vertical-align: top;\n",
       "    }\n",
       "\n",
       "    .dataframe thead th {\n",
       "        text-align: right;\n",
       "    }\n",
       "</style>\n",
       "<table border=\"1\" class=\"dataframe\">\n",
       "  <thead>\n",
       "    <tr style=\"text-align: right;\">\n",
       "      <th></th>\n",
       "      <th>id</th>\n",
       "      <th>imdb_id</th>\n",
       "      <th>popularity</th>\n",
       "      <th>budget</th>\n",
       "      <th>revenue</th>\n",
       "      <th>original_title</th>\n",
       "      <th>cast</th>\n",
       "      <th>homepage</th>\n",
       "      <th>director</th>\n",
       "      <th>tagline</th>\n",
       "      <th>...</th>\n",
       "      <th>overview</th>\n",
       "      <th>runtime</th>\n",
       "      <th>genres</th>\n",
       "      <th>production_companies</th>\n",
       "      <th>release_date</th>\n",
       "      <th>vote_count</th>\n",
       "      <th>vote_average</th>\n",
       "      <th>release_year</th>\n",
       "      <th>budget_adj</th>\n",
       "      <th>revenue_adj</th>\n",
       "    </tr>\n",
       "  </thead>\n",
       "  <tbody>\n",
       "    <tr>\n",
       "      <th>0</th>\n",
       "      <td>135397</td>\n",
       "      <td>tt0369610</td>\n",
       "      <td>32.985763</td>\n",
       "      <td>150000000</td>\n",
       "      <td>1513528810</td>\n",
       "      <td>Jurassic World</td>\n",
       "      <td>Chris Pratt|Bryce Dallas Howard|Irrfan Khan|Vi...</td>\n",
       "      <td>http://www.jurassicworld.com/</td>\n",
       "      <td>Colin Trevorrow</td>\n",
       "      <td>The park is open.</td>\n",
       "      <td>...</td>\n",
       "      <td>Twenty-two years after the events of Jurassic ...</td>\n",
       "      <td>124</td>\n",
       "      <td>Action|Adventure|Science Fiction|Thriller</td>\n",
       "      <td>Universal Studios|Amblin Entertainment|Legenda...</td>\n",
       "      <td>6/9/15</td>\n",
       "      <td>5562</td>\n",
       "      <td>6.5</td>\n",
       "      <td>2015</td>\n",
       "      <td>1.379999e+08</td>\n",
       "      <td>1.392446e+09</td>\n",
       "    </tr>\n",
       "    <tr>\n",
       "      <th>1</th>\n",
       "      <td>76341</td>\n",
       "      <td>tt1392190</td>\n",
       "      <td>28.419936</td>\n",
       "      <td>150000000</td>\n",
       "      <td>378436354</td>\n",
       "      <td>Mad Max: Fury Road</td>\n",
       "      <td>Tom Hardy|Charlize Theron|Hugh Keays-Byrne|Nic...</td>\n",
       "      <td>http://www.madmaxmovie.com/</td>\n",
       "      <td>George Miller</td>\n",
       "      <td>What a Lovely Day.</td>\n",
       "      <td>...</td>\n",
       "      <td>An apocalyptic story set in the furthest reach...</td>\n",
       "      <td>120</td>\n",
       "      <td>Action|Adventure|Science Fiction|Thriller</td>\n",
       "      <td>Village Roadshow Pictures|Kennedy Miller Produ...</td>\n",
       "      <td>5/13/15</td>\n",
       "      <td>6185</td>\n",
       "      <td>7.1</td>\n",
       "      <td>2015</td>\n",
       "      <td>1.379999e+08</td>\n",
       "      <td>3.481613e+08</td>\n",
       "    </tr>\n",
       "    <tr>\n",
       "      <th>2</th>\n",
       "      <td>262500</td>\n",
       "      <td>tt2908446</td>\n",
       "      <td>13.112507</td>\n",
       "      <td>110000000</td>\n",
       "      <td>295238201</td>\n",
       "      <td>Insurgent</td>\n",
       "      <td>Shailene Woodley|Theo James|Kate Winslet|Ansel...</td>\n",
       "      <td>http://www.thedivergentseries.movie/#insurgent</td>\n",
       "      <td>Robert Schwentke</td>\n",
       "      <td>One Choice Can Destroy You</td>\n",
       "      <td>...</td>\n",
       "      <td>Beatrice Prior must confront her inner demons ...</td>\n",
       "      <td>119</td>\n",
       "      <td>Adventure|Science Fiction|Thriller</td>\n",
       "      <td>Summit Entertainment|Mandeville Films|Red Wago...</td>\n",
       "      <td>3/18/15</td>\n",
       "      <td>2480</td>\n",
       "      <td>6.3</td>\n",
       "      <td>2015</td>\n",
       "      <td>1.012000e+08</td>\n",
       "      <td>2.716190e+08</td>\n",
       "    </tr>\n",
       "    <tr>\n",
       "      <th>3</th>\n",
       "      <td>140607</td>\n",
       "      <td>tt2488496</td>\n",
       "      <td>11.173104</td>\n",
       "      <td>200000000</td>\n",
       "      <td>2068178225</td>\n",
       "      <td>Star Wars: The Force Awakens</td>\n",
       "      <td>Harrison Ford|Mark Hamill|Carrie Fisher|Adam D...</td>\n",
       "      <td>http://www.starwars.com/films/star-wars-episod...</td>\n",
       "      <td>J.J. Abrams</td>\n",
       "      <td>Every generation has a story.</td>\n",
       "      <td>...</td>\n",
       "      <td>Thirty years after defeating the Galactic Empi...</td>\n",
       "      <td>136</td>\n",
       "      <td>Action|Adventure|Science Fiction|Fantasy</td>\n",
       "      <td>Lucasfilm|Truenorth Productions|Bad Robot</td>\n",
       "      <td>12/15/15</td>\n",
       "      <td>5292</td>\n",
       "      <td>7.5</td>\n",
       "      <td>2015</td>\n",
       "      <td>1.839999e+08</td>\n",
       "      <td>1.902723e+09</td>\n",
       "    </tr>\n",
       "    <tr>\n",
       "      <th>4</th>\n",
       "      <td>168259</td>\n",
       "      <td>tt2820852</td>\n",
       "      <td>9.335014</td>\n",
       "      <td>190000000</td>\n",
       "      <td>1506249360</td>\n",
       "      <td>Furious 7</td>\n",
       "      <td>Vin Diesel|Paul Walker|Jason Statham|Michelle ...</td>\n",
       "      <td>http://www.furious7.com/</td>\n",
       "      <td>James Wan</td>\n",
       "      <td>Vengeance Hits Home</td>\n",
       "      <td>...</td>\n",
       "      <td>Deckard Shaw seeks revenge against Dominic Tor...</td>\n",
       "      <td>137</td>\n",
       "      <td>Action|Crime|Thriller</td>\n",
       "      <td>Universal Pictures|Original Film|Media Rights ...</td>\n",
       "      <td>4/1/15</td>\n",
       "      <td>2947</td>\n",
       "      <td>7.3</td>\n",
       "      <td>2015</td>\n",
       "      <td>1.747999e+08</td>\n",
       "      <td>1.385749e+09</td>\n",
       "    </tr>\n",
       "  </tbody>\n",
       "</table>\n",
       "<p>5 rows × 21 columns</p>\n",
       "</div>"
      ],
      "text/plain": [
       "       id    imdb_id  popularity     budget     revenue  \\\n",
       "0  135397  tt0369610   32.985763  150000000  1513528810   \n",
       "1   76341  tt1392190   28.419936  150000000   378436354   \n",
       "2  262500  tt2908446   13.112507  110000000   295238201   \n",
       "3  140607  tt2488496   11.173104  200000000  2068178225   \n",
       "4  168259  tt2820852    9.335014  190000000  1506249360   \n",
       "\n",
       "                 original_title  \\\n",
       "0                Jurassic World   \n",
       "1            Mad Max: Fury Road   \n",
       "2                     Insurgent   \n",
       "3  Star Wars: The Force Awakens   \n",
       "4                     Furious 7   \n",
       "\n",
       "                                                cast  \\\n",
       "0  Chris Pratt|Bryce Dallas Howard|Irrfan Khan|Vi...   \n",
       "1  Tom Hardy|Charlize Theron|Hugh Keays-Byrne|Nic...   \n",
       "2  Shailene Woodley|Theo James|Kate Winslet|Ansel...   \n",
       "3  Harrison Ford|Mark Hamill|Carrie Fisher|Adam D...   \n",
       "4  Vin Diesel|Paul Walker|Jason Statham|Michelle ...   \n",
       "\n",
       "                                            homepage          director  \\\n",
       "0                      http://www.jurassicworld.com/   Colin Trevorrow   \n",
       "1                        http://www.madmaxmovie.com/     George Miller   \n",
       "2     http://www.thedivergentseries.movie/#insurgent  Robert Schwentke   \n",
       "3  http://www.starwars.com/films/star-wars-episod...       J.J. Abrams   \n",
       "4                           http://www.furious7.com/         James Wan   \n",
       "\n",
       "                         tagline  ...  \\\n",
       "0              The park is open.  ...   \n",
       "1             What a Lovely Day.  ...   \n",
       "2     One Choice Can Destroy You  ...   \n",
       "3  Every generation has a story.  ...   \n",
       "4            Vengeance Hits Home  ...   \n",
       "\n",
       "                                            overview runtime  \\\n",
       "0  Twenty-two years after the events of Jurassic ...     124   \n",
       "1  An apocalyptic story set in the furthest reach...     120   \n",
       "2  Beatrice Prior must confront her inner demons ...     119   \n",
       "3  Thirty years after defeating the Galactic Empi...     136   \n",
       "4  Deckard Shaw seeks revenge against Dominic Tor...     137   \n",
       "\n",
       "                                      genres  \\\n",
       "0  Action|Adventure|Science Fiction|Thriller   \n",
       "1  Action|Adventure|Science Fiction|Thriller   \n",
       "2         Adventure|Science Fiction|Thriller   \n",
       "3   Action|Adventure|Science Fiction|Fantasy   \n",
       "4                      Action|Crime|Thriller   \n",
       "\n",
       "                                production_companies release_date vote_count  \\\n",
       "0  Universal Studios|Amblin Entertainment|Legenda...       6/9/15       5562   \n",
       "1  Village Roadshow Pictures|Kennedy Miller Produ...      5/13/15       6185   \n",
       "2  Summit Entertainment|Mandeville Films|Red Wago...      3/18/15       2480   \n",
       "3          Lucasfilm|Truenorth Productions|Bad Robot     12/15/15       5292   \n",
       "4  Universal Pictures|Original Film|Media Rights ...       4/1/15       2947   \n",
       "\n",
       "   vote_average  release_year    budget_adj   revenue_adj  \n",
       "0           6.5          2015  1.379999e+08  1.392446e+09  \n",
       "1           7.1          2015  1.379999e+08  3.481613e+08  \n",
       "2           6.3          2015  1.012000e+08  2.716190e+08  \n",
       "3           7.5          2015  1.839999e+08  1.902723e+09  \n",
       "4           7.3          2015  1.747999e+08  1.385749e+09  \n",
       "\n",
       "[5 rows x 21 columns]"
      ]
     },
     "execution_count": 21,
     "metadata": {},
     "output_type": "execute_result"
    }
   ],
   "source": [
    "# Chragement de la base de donnée et affichage des 5 primières lignes. \n",
    "df = pd.read_csv('tmdb-movies.csv')\n",
    "df.head()"
   ]
  },
  {
   "cell_type": "markdown",
   "metadata": {},
   "source": [
    "**Remarque**: En visualisant les données on remarque effectivement que comme c'est décrit dans la vue d'ensemble des données que Certaines colonnes, comme 'cast' , 'genres', 'production_companies' contiennent plusieurs valeurs séparées par un tuyau (|) caractères."
   ]
  },
  {
   "cell_type": "code",
   "execution_count": 24,
   "metadata": {},
   "outputs": [
    {
     "name": "stdout",
     "output_type": "stream",
     "text": [
      "0 id\n",
      "1 imdb_id\n",
      "2 popularity\n",
      "3 budget\n",
      "4 revenue\n",
      "5 original_title\n",
      "6 cast\n",
      "7 homepage\n",
      "8 director\n",
      "9 tagline\n",
      "10 keywords\n",
      "11 overview\n",
      "12 runtime\n",
      "13 genres\n",
      "14 production_companies\n",
      "15 release_date\n",
      "16 vote_count\n",
      "17 vote_average\n",
      "18 release_year\n",
      "19 budget_adj\n",
      "20 revenue_adj\n"
     ]
    }
   ],
   "source": [
    "# Affichons l'ensemble des variables compris dans la base de données\n",
    "for i, v in enumerate(df.columns):\n",
    "    print(i, v)"
   ]
  },
  {
   "cell_type": "markdown",
   "metadata": {},
   "source": [
    "**Remarque**: Il y'a certaines colonnes comme \"id\", \"imdb_id\", \"original_title\", \"homepage\", \"tagline\" \"overview\" et \"keywords\"\n",
    "qui ne nous apportent pas grande informations pouvant servir à notre analyse, nous allons essayer des les nettoyer dans la partie nettoyage des données."
   ]
  },
  {
   "cell_type": "code",
   "execution_count": 25,
   "metadata": {},
   "outputs": [
    {
     "name": "stdout",
     "output_type": "stream",
     "text": [
      "<class 'pandas.core.frame.DataFrame'>\n",
      "RangeIndex: 10866 entries, 0 to 10865\n",
      "Data columns (total 21 columns):\n",
      " #   Column                Non-Null Count  Dtype  \n",
      "---  ------                --------------  -----  \n",
      " 0   id                    10866 non-null  int64  \n",
      " 1   imdb_id               10856 non-null  object \n",
      " 2   popularity            10866 non-null  float64\n",
      " 3   budget                10866 non-null  int64  \n",
      " 4   revenue               10866 non-null  int64  \n",
      " 5   original_title        10866 non-null  object \n",
      " 6   cast                  10790 non-null  object \n",
      " 7   homepage              2936 non-null   object \n",
      " 8   director              10822 non-null  object \n",
      " 9   tagline               8042 non-null   object \n",
      " 10  keywords              9373 non-null   object \n",
      " 11  overview              10862 non-null  object \n",
      " 12  runtime               10866 non-null  int64  \n",
      " 13  genres                10843 non-null  object \n",
      " 14  production_companies  9836 non-null   object \n",
      " 15  release_date          10866 non-null  object \n",
      " 16  vote_count            10866 non-null  int64  \n",
      " 17  vote_average          10866 non-null  float64\n",
      " 18  release_year          10866 non-null  int64  \n",
      " 19  budget_adj            10866 non-null  float64\n",
      " 20  revenue_adj           10866 non-null  float64\n",
      "dtypes: float64(4), int64(6), object(11)\n",
      "memory usage: 1.7+ MB\n"
     ]
    }
   ],
   "source": [
    "#affichage du nombre de lignes et de colonnes ainsi que les types des variables \n",
    "df.shape\n",
    "df.info()"
   ]
  },
  {
   "cell_type": "markdown",
   "metadata": {},
   "source": [
    "**Remarque**: "
   ]
  },
  {
   "cell_type": "code",
   "execution_count": 26,
   "metadata": {},
   "outputs": [
    {
     "data": {
      "text/plain": [
       "id                      10865\n",
       "imdb_id                 10855\n",
       "popularity              10814\n",
       "budget                    557\n",
       "revenue                  4702\n",
       "original_title          10571\n",
       "cast                    10719\n",
       "homepage                 2896\n",
       "director                 5067\n",
       "tagline                  7997\n",
       "keywords                 8804\n",
       "overview                10847\n",
       "runtime                   247\n",
       "genres                   2039\n",
       "production_companies     7445\n",
       "release_date             5909\n",
       "vote_count               1289\n",
       "vote_average               72\n",
       "release_year               56\n",
       "budget_adj               2614\n",
       "revenue_adj              4840\n",
       "dtype: int64"
      ]
     },
     "execution_count": 26,
     "metadata": {},
     "output_type": "execute_result"
    }
   ],
   "source": [
    "#valeurs uniques dans les données\n",
    "df.nunique()"
   ]
  },
  {
   "cell_type": "code",
   "execution_count": 27,
   "metadata": {},
   "outputs": [
    {
     "data": {
      "text/plain": [
       "id                         0\n",
       "imdb_id                   10\n",
       "popularity                 0\n",
       "budget                     0\n",
       "revenue                    0\n",
       "original_title             0\n",
       "cast                      76\n",
       "homepage                7930\n",
       "director                  44\n",
       "tagline                 2824\n",
       "keywords                1493\n",
       "overview                   4\n",
       "runtime                    0\n",
       "genres                    23\n",
       "production_companies    1030\n",
       "release_date               0\n",
       "vote_count                 0\n",
       "vote_average               0\n",
       "release_year               0\n",
       "budget_adj                 0\n",
       "revenue_adj                0\n",
       "dtype: int64"
      ]
     },
     "execution_count": 27,
     "metadata": {},
     "output_type": "execute_result"
    }
   ],
   "source": [
    "# Valeur manquantes:\n",
    "df.isnull().sum()"
   ]
  },
  {
   "cell_type": "markdown",
   "metadata": {},
   "source": [
    "**Remarque** : Nous remarquons certaines colonnes comme \"homepage\", \"director\", \"tagline\" etc... contiennent des valeurs manquantes, Dans la section suivante nous allons traiter l'ensembles de ces valeurs manquantes par la methode des moyennes."
   ]
  },
  {
   "cell_type": "code",
   "execution_count": 28,
   "metadata": {},
   "outputs": [
    {
     "data": {
      "text/html": [
       "<div>\n",
       "<style scoped>\n",
       "    .dataframe tbody tr th:only-of-type {\n",
       "        vertical-align: middle;\n",
       "    }\n",
       "\n",
       "    .dataframe tbody tr th {\n",
       "        vertical-align: top;\n",
       "    }\n",
       "\n",
       "    .dataframe thead th {\n",
       "        text-align: right;\n",
       "    }\n",
       "</style>\n",
       "<table border=\"1\" class=\"dataframe\">\n",
       "  <thead>\n",
       "    <tr style=\"text-align: right;\">\n",
       "      <th></th>\n",
       "      <th>id</th>\n",
       "      <th>popularity</th>\n",
       "      <th>budget</th>\n",
       "      <th>revenue</th>\n",
       "      <th>runtime</th>\n",
       "      <th>vote_count</th>\n",
       "      <th>vote_average</th>\n",
       "      <th>release_year</th>\n",
       "      <th>budget_adj</th>\n",
       "      <th>revenue_adj</th>\n",
       "    </tr>\n",
       "  </thead>\n",
       "  <tbody>\n",
       "    <tr>\n",
       "      <th>count</th>\n",
       "      <td>10866.000000</td>\n",
       "      <td>10866.000000</td>\n",
       "      <td>1.086600e+04</td>\n",
       "      <td>1.086600e+04</td>\n",
       "      <td>10866.000000</td>\n",
       "      <td>10866.000000</td>\n",
       "      <td>10866.000000</td>\n",
       "      <td>10866.000000</td>\n",
       "      <td>1.086600e+04</td>\n",
       "      <td>1.086600e+04</td>\n",
       "    </tr>\n",
       "    <tr>\n",
       "      <th>mean</th>\n",
       "      <td>66064.177434</td>\n",
       "      <td>0.646441</td>\n",
       "      <td>1.462570e+07</td>\n",
       "      <td>3.982332e+07</td>\n",
       "      <td>102.070863</td>\n",
       "      <td>217.389748</td>\n",
       "      <td>5.974922</td>\n",
       "      <td>2001.322658</td>\n",
       "      <td>1.755104e+07</td>\n",
       "      <td>5.136436e+07</td>\n",
       "    </tr>\n",
       "    <tr>\n",
       "      <th>std</th>\n",
       "      <td>92130.136561</td>\n",
       "      <td>1.000185</td>\n",
       "      <td>3.091321e+07</td>\n",
       "      <td>1.170035e+08</td>\n",
       "      <td>31.381405</td>\n",
       "      <td>575.619058</td>\n",
       "      <td>0.935142</td>\n",
       "      <td>12.812941</td>\n",
       "      <td>3.430616e+07</td>\n",
       "      <td>1.446325e+08</td>\n",
       "    </tr>\n",
       "    <tr>\n",
       "      <th>min</th>\n",
       "      <td>5.000000</td>\n",
       "      <td>0.000065</td>\n",
       "      <td>0.000000e+00</td>\n",
       "      <td>0.000000e+00</td>\n",
       "      <td>0.000000</td>\n",
       "      <td>10.000000</td>\n",
       "      <td>1.500000</td>\n",
       "      <td>1960.000000</td>\n",
       "      <td>0.000000e+00</td>\n",
       "      <td>0.000000e+00</td>\n",
       "    </tr>\n",
       "    <tr>\n",
       "      <th>25%</th>\n",
       "      <td>10596.250000</td>\n",
       "      <td>0.207583</td>\n",
       "      <td>0.000000e+00</td>\n",
       "      <td>0.000000e+00</td>\n",
       "      <td>90.000000</td>\n",
       "      <td>17.000000</td>\n",
       "      <td>5.400000</td>\n",
       "      <td>1995.000000</td>\n",
       "      <td>0.000000e+00</td>\n",
       "      <td>0.000000e+00</td>\n",
       "    </tr>\n",
       "    <tr>\n",
       "      <th>50%</th>\n",
       "      <td>20669.000000</td>\n",
       "      <td>0.383856</td>\n",
       "      <td>0.000000e+00</td>\n",
       "      <td>0.000000e+00</td>\n",
       "      <td>99.000000</td>\n",
       "      <td>38.000000</td>\n",
       "      <td>6.000000</td>\n",
       "      <td>2006.000000</td>\n",
       "      <td>0.000000e+00</td>\n",
       "      <td>0.000000e+00</td>\n",
       "    </tr>\n",
       "    <tr>\n",
       "      <th>75%</th>\n",
       "      <td>75610.000000</td>\n",
       "      <td>0.713817</td>\n",
       "      <td>1.500000e+07</td>\n",
       "      <td>2.400000e+07</td>\n",
       "      <td>111.000000</td>\n",
       "      <td>145.750000</td>\n",
       "      <td>6.600000</td>\n",
       "      <td>2011.000000</td>\n",
       "      <td>2.085325e+07</td>\n",
       "      <td>3.369710e+07</td>\n",
       "    </tr>\n",
       "    <tr>\n",
       "      <th>max</th>\n",
       "      <td>417859.000000</td>\n",
       "      <td>32.985763</td>\n",
       "      <td>4.250000e+08</td>\n",
       "      <td>2.781506e+09</td>\n",
       "      <td>900.000000</td>\n",
       "      <td>9767.000000</td>\n",
       "      <td>9.200000</td>\n",
       "      <td>2015.000000</td>\n",
       "      <td>4.250000e+08</td>\n",
       "      <td>2.827124e+09</td>\n",
       "    </tr>\n",
       "  </tbody>\n",
       "</table>\n",
       "</div>"
      ],
      "text/plain": [
       "                  id    popularity        budget       revenue       runtime  \\\n",
       "count   10866.000000  10866.000000  1.086600e+04  1.086600e+04  10866.000000   \n",
       "mean    66064.177434      0.646441  1.462570e+07  3.982332e+07    102.070863   \n",
       "std     92130.136561      1.000185  3.091321e+07  1.170035e+08     31.381405   \n",
       "min         5.000000      0.000065  0.000000e+00  0.000000e+00      0.000000   \n",
       "25%     10596.250000      0.207583  0.000000e+00  0.000000e+00     90.000000   \n",
       "50%     20669.000000      0.383856  0.000000e+00  0.000000e+00     99.000000   \n",
       "75%     75610.000000      0.713817  1.500000e+07  2.400000e+07    111.000000   \n",
       "max    417859.000000     32.985763  4.250000e+08  2.781506e+09    900.000000   \n",
       "\n",
       "         vote_count  vote_average  release_year    budget_adj   revenue_adj  \n",
       "count  10866.000000  10866.000000  10866.000000  1.086600e+04  1.086600e+04  \n",
       "mean     217.389748      5.974922   2001.322658  1.755104e+07  5.136436e+07  \n",
       "std      575.619058      0.935142     12.812941  3.430616e+07  1.446325e+08  \n",
       "min       10.000000      1.500000   1960.000000  0.000000e+00  0.000000e+00  \n",
       "25%       17.000000      5.400000   1995.000000  0.000000e+00  0.000000e+00  \n",
       "50%       38.000000      6.000000   2006.000000  0.000000e+00  0.000000e+00  \n",
       "75%      145.750000      6.600000   2011.000000  2.085325e+07  3.369710e+07  \n",
       "max     9767.000000      9.200000   2015.000000  4.250000e+08  2.827124e+09  "
      ]
     },
     "execution_count": 28,
     "metadata": {},
     "output_type": "execute_result"
    }
   ],
   "source": [
    "# Statistiques descriptives \n",
    "df.describe()"
   ]
  },
  {
   "cell_type": "markdown",
   "metadata": {},
   "source": [
    "**Commentaire**: \n",
    "- Nous remarquons au prime à bord que certaines colonnes comme par exemple \"Budget\", \"revenue\", \"runtime\" etc... ont une valeur minimale de 0, On pourrait toute fois choisire de supprimer ces valeurs pour ne pas qu'elles impactent nos analyses.  \n",
    "\n",
    "- Alors, selons les statistiques, il ya des films qui ont connus un succès phénomenale par exemple (le max de \"popularity\" qui est de 33 alors que la moyenne tourne autours de 0,64 ), si nous voyons aussi le nombre de vote. Nous devons tenir compte des ces valeurs aberrantes lors de l'ananlyse.\n",
    "\n",
    "- Il ya aussi des films qui on depenser un budget colausal et d'autres on engendré des gros revenus, nous devons egalement tenir compte de ces valeurs abérrantes alors de nos analyses."
   ]
  },
  {
   "cell_type": "markdown",
   "metadata": {},
   "source": [
    "\n",
    "### Nettoyage des données\n",
    "> \n",
    "Dans la partie visualisation des données, nous avons decéler un certains nombres de problèmes que contient le jeu de donnée.\n",
    "Dans cette partie nettoyage des données, nous allons esssayer de corrigers ces problèmes.\n",
    " "
   ]
  },
  {
   "cell_type": "code",
   "execution_count": 22,
   "metadata": {},
   "outputs": [
    {
     "name": "stdout",
     "output_type": "stream",
     "text": [
      "<class 'pandas.core.frame.DataFrame'>\n",
      "RangeIndex: 10866 entries, 0 to 10865\n",
      "Data columns (total 11 columns):\n",
      " #   Column                Non-Null Count  Dtype  \n",
      "---  ------                --------------  -----  \n",
      " 0   popularity            10866 non-null  float64\n",
      " 1   cast                  10790 non-null  object \n",
      " 2   runtime               10866 non-null  int64  \n",
      " 3   genres                10843 non-null  object \n",
      " 4   production_companies  9836 non-null   object \n",
      " 5   release_date          10866 non-null  object \n",
      " 6   vote_count            10866 non-null  int64  \n",
      " 7   vote_average          10866 non-null  float64\n",
      " 8   release_year          10866 non-null  int64  \n",
      " 9   budget_adj            10866 non-null  float64\n",
      " 10  revenue_adj           10866 non-null  float64\n",
      "dtypes: float64(4), int64(3), object(4)\n",
      "memory usage: 933.9+ KB\n"
     ]
    }
   ],
   "source": [
    "#Nous allons commmencer par nettoyer les colonnes qui ne nous seront pas utile dans l'analyse.\n",
    "#\"id\", \"imdb_id\", \"original_title\",\"revenue\",\"Budget\", \"homepage\",\"director\" \"tagline\" \"overview\" et \"keywords\"\n",
    "\n",
    "df.drop(df.columns[[0, 1, 3, 4, 5, 7, 8, 9, 11, 10]], axis=1, inplace = True)\n",
    "df.info()"
   ]
  },
  {
   "cell_type": "markdown",
   "metadata": {
    "scrolled": true
   },
   "source": [
    "**Remarque**: \n",
    "- Nous voyons bien que l'ensembles de ces colonnes unitule à notre analyse ont été supprimés.\n",
    "- Nous avons décidé de supprimer le revenue et le budjet initial parceque on a dans notre jeu de donnée un revenu et budjet actualisé.  "
   ]
  },
  {
   "cell_type": "code",
   "execution_count": 5,
   "metadata": {},
   "outputs": [
    {
     "data": {
      "text/plain": [
       "popularity                 0\n",
       "cast                      76\n",
       "runtime                    0\n",
       "genres                    23\n",
       "production_companies    1030\n",
       "release_date               0\n",
       "vote_count                 0\n",
       "vote_average               0\n",
       "release_year               0\n",
       "budget_adj                 0\n",
       "revenue_adj                0\n",
       "dtype: int64"
      ]
     },
     "execution_count": 5,
     "metadata": {},
     "output_type": "execute_result"
    }
   ],
   "source": [
    "# Voir le nombre de valeur manquantes dans les colonnes.\n",
    "df.isnull().sum()"
   ]
  },
  {
   "cell_type": "markdown",
   "metadata": {},
   "source": [
    "**Remarques**: Nous voyons que les colonnes comme \"cast\", \"genres\" et \"production_companies\" ont des valeurs manquantes dans le jeu de données"
   ]
  },
  {
   "cell_type": "code",
   "execution_count": 6,
   "metadata": {},
   "outputs": [
    {
     "data": {
      "text/plain": [
       "<AxesSubplot:>"
      ]
     },
     "execution_count": 6,
     "metadata": {},
     "output_type": "execute_result"
    },
    {
     "data": {
      "image/png": "[encoded data removed]",
      "text/plain": [
       "<Figure size 432x288 with 1 Axes>"
      ]
     },
     "metadata": {
      "needs_background": "light"
     },
     "output_type": "display_data"
    }
   ],
   "source": [
    "# nous allons visualiser à l'aide d'un graphique les données manquantes pour voir comment les gerer.\n",
    "sns.heatmap(df.isnull(),yticklabels=False,cbar=False,cmap='viridis')"
   ]
  },
  {
   "cell_type": "code",
   "execution_count": 23,
   "metadata": {},
   "outputs": [
    {
     "data": {
      "text/plain": [
       "(10866, 11)"
      ]
     },
     "execution_count": 23,
     "metadata": {},
     "output_type": "execute_result"
    }
   ],
   "source": [
    "df.shape"
   ]
  },
  {
   "cell_type": "code",
   "execution_count": 24,
   "metadata": {},
   "outputs": [],
   "source": [
    "#Nous allons maintenant supprimer toutes les lignes contenant des aleurs manquantes.\n",
    "df.dropna(how='any', inplace=True)"
   ]
  },
  {
   "cell_type": "code",
   "execution_count": 25,
   "metadata": {},
   "outputs": [
    {
     "data": {
      "text/plain": [
       "(9792, 11)"
      ]
     },
     "execution_count": 25,
     "metadata": {},
     "output_type": "execute_result"
    }
   ],
   "source": [
    "df.shape"
   ]
  },
  {
   "cell_type": "markdown",
   "metadata": {},
   "source": [
    "**Remarque**: Nous voyons que de 10866 lignes, nous sommes passé à 9792 et nous n'avons pas perdu trop de données pouvant influencer notre analyse donc on peut garder cette méthode de néttoyage des données."
   ]
  },
  {
   "cell_type": "code",
   "execution_count": 7,
   "metadata": {},
   "outputs": [
    {
     "data": {
      "text/plain": [
       "popularity              0\n",
       "cast                    0\n",
       "runtime                 0\n",
       "genres                  0\n",
       "production_companies    0\n",
       "release_date            0\n",
       "vote_count              0\n",
       "vote_average            0\n",
       "release_year            0\n",
       "budget_adj              0\n",
       "revenue_adj             0\n",
       "dtype: int64"
      ]
     },
     "execution_count": 7,
     "metadata": {},
     "output_type": "execute_result"
    }
   ],
   "source": [
    "#Afficher les données manquantes \n",
    "df.isnull().sum()"
   ]
  },
  {
   "cell_type": "markdown",
   "metadata": {},
   "source": [
    "**Commentaire**: Notre jeu de données ne contient plus de données manquantes"
   ]
  },
  {
   "cell_type": "code",
   "execution_count": 26,
   "metadata": {},
   "outputs": [
    {
     "data": {
      "text/plain": [
       "1"
      ]
     },
     "execution_count": 26,
     "metadata": {},
     "output_type": "execute_result"
    }
   ],
   "source": [
    "#Nous allons maintenant voir les lignes dupliquées.\n",
    "sum(df.duplicated())"
   ]
  },
  {
   "cell_type": "code",
   "execution_count": 27,
   "metadata": {},
   "outputs": [],
   "source": [
    "#On a Une lignes dupliquée donc nous allons la supprimer\n",
    "df.drop_duplicates(inplace=True)"
   ]
  },
  {
   "cell_type": "code",
   "execution_count": 28,
   "metadata": {},
   "outputs": [
    {
     "data": {
      "text/plain": [
       "0"
      ]
     },
     "execution_count": 28,
     "metadata": {},
     "output_type": "execute_result"
    }
   ],
   "source": [
    "sum(df.duplicated())"
   ]
  },
  {
   "cell_type": "markdown",
   "metadata": {},
   "source": [
    "**Remarque**: Nous voyons que nous n'avons plus de données manquantes dans notre jeu de données."
   ]
  },
  {
   "cell_type": "code",
   "execution_count": 29,
   "metadata": {},
   "outputs": [],
   "source": [
    "#recodage des colonnes \"cast\", \"genres\" et \"production_companies\"\n",
    "\n",
    "# Colonne genre \n",
    "L_g = []\n",
    "for i in df['genres']:\n",
    "    i=i.split('|')\n",
    "    L_g.append(i[0])\n",
    "df['genres_rcd']=L_g"
   ]
  },
  {
   "cell_type": "code",
   "execution_count": null,
   "metadata": {},
   "outputs": [],
   "source": []
  },
  {
   "cell_type": "markdown",
   "metadata": {},
   "source": [
    "**Commentaire**: Dans le code ci-dessus, nous avons recoder la colonne \"genre\", nous avons remarque que cette colonne contenait plusieurs valeurs separées par des (|) donc nous avons décidé dans notre analyse que nous prendrons que la première valeur que nous allons faire l'analyse avec. Et donc nous avons recoder notre variable \"genres\" en \"genres_rcd\". "
   ]
  },
  {
   "cell_type": "code",
   "execution_count": 30,
   "metadata": {},
   "outputs": [],
   "source": [
    "#Nous allons repeter la même chose pour les colonnes \"cast\" et \"productions_companies\"\n"
   ]
  },
  {
   "cell_type": "code",
   "execution_count": 31,
   "metadata": {},
   "outputs": [],
   "source": [
    "#colonne \"cast\"\n",
    "\n",
    "L_c = []\n",
    "for i in df['cast']:\n",
    "    i=i.split('|')\n",
    "    L_c.append(i[0])\n",
    "df['cast_rcd']=L_c"
   ]
  },
  {
   "cell_type": "code",
   "execution_count": 32,
   "metadata": {},
   "outputs": [],
   "source": [
    "#colonne \"productions_companies\"\n",
    "\n",
    "L_pc = []\n",
    "for i in df['production_companies']:\n",
    "    i=i.split('|')\n",
    "    L_pc.append(i[0])\n",
    "df['productions_companies_rcd']=L_pc"
   ]
  },
  {
   "cell_type": "code",
   "execution_count": 14,
   "metadata": {},
   "outputs": [
    {
     "data": {
      "text/html": [
       "<div>\n",
       "<style scoped>\n",
       "    .dataframe tbody tr th:only-of-type {\n",
       "        vertical-align: middle;\n",
       "    }\n",
       "\n",
       "    .dataframe tbody tr th {\n",
       "        vertical-align: top;\n",
       "    }\n",
       "\n",
       "    .dataframe thead th {\n",
       "        text-align: right;\n",
       "    }\n",
       "</style>\n",
       "<table border=\"1\" class=\"dataframe\">\n",
       "  <thead>\n",
       "    <tr style=\"text-align: right;\">\n",
       "      <th></th>\n",
       "      <th>popularity</th>\n",
       "      <th>cast</th>\n",
       "      <th>runtime</th>\n",
       "      <th>genres</th>\n",
       "      <th>production_companies</th>\n",
       "      <th>release_date</th>\n",
       "      <th>vote_count</th>\n",
       "      <th>vote_average</th>\n",
       "      <th>release_year</th>\n",
       "      <th>budget_adj</th>\n",
       "      <th>revenue_adj</th>\n",
       "      <th>genres_rcd</th>\n",
       "      <th>cast_rcd</th>\n",
       "      <th>productions_companies_rcd</th>\n",
       "    </tr>\n",
       "  </thead>\n",
       "  <tbody>\n",
       "    <tr>\n",
       "      <th>0</th>\n",
       "      <td>32.985763</td>\n",
       "      <td>Chris Pratt|Bryce Dallas Howard|Irrfan Khan|Vi...</td>\n",
       "      <td>124</td>\n",
       "      <td>Action|Adventure|Science Fiction|Thriller</td>\n",
       "      <td>Universal Studios|Amblin Entertainment|Legenda...</td>\n",
       "      <td>6/9/15</td>\n",
       "      <td>5562</td>\n",
       "      <td>6.5</td>\n",
       "      <td>2015</td>\n",
       "      <td>1.379999e+08</td>\n",
       "      <td>1.392446e+09</td>\n",
       "      <td>Action</td>\n",
       "      <td>Chris Pratt</td>\n",
       "      <td>Universal Studios</td>\n",
       "    </tr>\n",
       "    <tr>\n",
       "      <th>1</th>\n",
       "      <td>28.419936</td>\n",
       "      <td>Tom Hardy|Charlize Theron|Hugh Keays-Byrne|Nic...</td>\n",
       "      <td>120</td>\n",
       "      <td>Action|Adventure|Science Fiction|Thriller</td>\n",
       "      <td>Village Roadshow Pictures|Kennedy Miller Produ...</td>\n",
       "      <td>5/13/15</td>\n",
       "      <td>6185</td>\n",
       "      <td>7.1</td>\n",
       "      <td>2015</td>\n",
       "      <td>1.379999e+08</td>\n",
       "      <td>3.481613e+08</td>\n",
       "      <td>Action</td>\n",
       "      <td>Tom Hardy</td>\n",
       "      <td>Village Roadshow Pictures</td>\n",
       "    </tr>\n",
       "    <tr>\n",
       "      <th>2</th>\n",
       "      <td>13.112507</td>\n",
       "      <td>Shailene Woodley|Theo James|Kate Winslet|Ansel...</td>\n",
       "      <td>119</td>\n",
       "      <td>Adventure|Science Fiction|Thriller</td>\n",
       "      <td>Summit Entertainment|Mandeville Films|Red Wago...</td>\n",
       "      <td>3/18/15</td>\n",
       "      <td>2480</td>\n",
       "      <td>6.3</td>\n",
       "      <td>2015</td>\n",
       "      <td>1.012000e+08</td>\n",
       "      <td>2.716190e+08</td>\n",
       "      <td>Adventure</td>\n",
       "      <td>Shailene Woodley</td>\n",
       "      <td>Summit Entertainment</td>\n",
       "    </tr>\n",
       "    <tr>\n",
       "      <th>3</th>\n",
       "      <td>11.173104</td>\n",
       "      <td>Harrison Ford|Mark Hamill|Carrie Fisher|Adam D...</td>\n",
       "      <td>136</td>\n",
       "      <td>Action|Adventure|Science Fiction|Fantasy</td>\n",
       "      <td>Lucasfilm|Truenorth Productions|Bad Robot</td>\n",
       "      <td>12/15/15</td>\n",
       "      <td>5292</td>\n",
       "      <td>7.5</td>\n",
       "      <td>2015</td>\n",
       "      <td>1.839999e+08</td>\n",
       "      <td>1.902723e+09</td>\n",
       "      <td>Action</td>\n",
       "      <td>Harrison Ford</td>\n",
       "      <td>Lucasfilm</td>\n",
       "    </tr>\n",
       "    <tr>\n",
       "      <th>4</th>\n",
       "      <td>9.335014</td>\n",
       "      <td>Vin Diesel|Paul Walker|Jason Statham|Michelle ...</td>\n",
       "      <td>137</td>\n",
       "      <td>Action|Crime|Thriller</td>\n",
       "      <td>Universal Pictures|Original Film|Media Rights ...</td>\n",
       "      <td>4/1/15</td>\n",
       "      <td>2947</td>\n",
       "      <td>7.3</td>\n",
       "      <td>2015</td>\n",
       "      <td>1.747999e+08</td>\n",
       "      <td>1.385749e+09</td>\n",
       "      <td>Action</td>\n",
       "      <td>Vin Diesel</td>\n",
       "      <td>Universal Pictures</td>\n",
       "    </tr>\n",
       "  </tbody>\n",
       "</table>\n",
       "</div>"
      ],
      "text/plain": [
       "   popularity                                               cast  runtime  \\\n",
       "0   32.985763  Chris Pratt|Bryce Dallas Howard|Irrfan Khan|Vi...      124   \n",
       "1   28.419936  Tom Hardy|Charlize Theron|Hugh Keays-Byrne|Nic...      120   \n",
       "2   13.112507  Shailene Woodley|Theo James|Kate Winslet|Ansel...      119   \n",
       "3   11.173104  Harrison Ford|Mark Hamill|Carrie Fisher|Adam D...      136   \n",
       "4    9.335014  Vin Diesel|Paul Walker|Jason Statham|Michelle ...      137   \n",
       "\n",
       "                                      genres  \\\n",
       "0  Action|Adventure|Science Fiction|Thriller   \n",
       "1  Action|Adventure|Science Fiction|Thriller   \n",
       "2         Adventure|Science Fiction|Thriller   \n",
       "3   Action|Adventure|Science Fiction|Fantasy   \n",
       "4                      Action|Crime|Thriller   \n",
       "\n",
       "                                production_companies release_date  vote_count  \\\n",
       "0  Universal Studios|Amblin Entertainment|Legenda...       6/9/15        5562   \n",
       "1  Village Roadshow Pictures|Kennedy Miller Produ...      5/13/15        6185   \n",
       "2  Summit Entertainment|Mandeville Films|Red Wago...      3/18/15        2480   \n",
       "3          Lucasfilm|Truenorth Productions|Bad Robot     12/15/15        5292   \n",
       "4  Universal Pictures|Original Film|Media Rights ...       4/1/15        2947   \n",
       "\n",
       "   vote_average  release_year    budget_adj   revenue_adj genres_rcd  \\\n",
       "0           6.5          2015  1.379999e+08  1.392446e+09     Action   \n",
       "1           7.1          2015  1.379999e+08  3.481613e+08     Action   \n",
       "2           6.3          2015  1.012000e+08  2.716190e+08  Adventure   \n",
       "3           7.5          2015  1.839999e+08  1.902723e+09     Action   \n",
       "4           7.3          2015  1.747999e+08  1.385749e+09     Action   \n",
       "\n",
       "           cast_rcd  productions_companies_rcd  \n",
       "0       Chris Pratt          Universal Studios  \n",
       "1         Tom Hardy  Village Roadshow Pictures  \n",
       "2  Shailene Woodley       Summit Entertainment  \n",
       "3     Harrison Ford                  Lucasfilm  \n",
       "4        Vin Diesel         Universal Pictures  "
      ]
     },
     "execution_count": 14,
     "metadata": {},
     "output_type": "execute_result"
    }
   ],
   "source": [
    "df.head()"
   ]
  },
  {
   "cell_type": "markdown",
   "metadata": {},
   "source": [
    "**Remarque**: Nous pouvons distinguer clairement \"genres_rcd\", \"cast_rcd\" et \"production_companies\" qui se sont ajoutés à notree jeu de données et qui contiennent des valeurs bien claires."
   ]
  },
  {
   "cell_type": "markdown",
   "metadata": {},
   "source": [
    "<a id='aed'></a>\n",
    "## Analyse exploratoire des données\n",
    "\n",
    "\n",
    "\n",
    "### Question de recherche 1 : Quels genres de films sont les plus populaires d’année en année?"
   ]
  },
  {
   "cell_type": "markdown",
   "metadata": {},
   "source": [
    "> Pour notre première question, nous allons utiliser les variables \"genres\", \"popularity\" et \"release_year\" pour y repondre mais nous  avons remarqué que nos variables sont des variables qualitatives (\"genres\") et quantitatives(\"popularity\" et \"release_year\".\n",
    "\n",
    "> Nous allons commencer à faire des statistiques univariées pour ces variables pour voir comment elles se présentent."
   ]
  },
  {
   "cell_type": "code",
   "execution_count": 15,
   "metadata": {},
   "outputs": [
    {
     "data": {
      "text/plain": [
       "Drama              2226\n",
       "Comedy             2087\n",
       "Action             1480\n",
       "Horror              853\n",
       "Adventure           550\n",
       "Thriller            474\n",
       "Crime               361\n",
       "Animation           348\n",
       "Documentary         269\n",
       "Fantasy             253\n",
       "Science Fiction     197\n",
       "Romance             161\n",
       "Family              128\n",
       "Mystery             118\n",
       "Music                80\n",
       "TV Movie             62\n",
       "War                  57\n",
       "Western              42\n",
       "History              39\n",
       "Foreign               6\n",
       "Name: genres_rcd, dtype: int64"
      ]
     },
     "execution_count": 15,
     "metadata": {},
     "output_type": "execute_result"
    }
   ],
   "source": [
    "# Voir le nombre de genres de film\n",
    "df['genres_rcd'].value_counts()\n"
   ]
  },
  {
   "cell_type": "code",
   "execution_count": 45,
   "metadata": {},
   "outputs": [
    {
     "data": {
      "image/png": "[encoded data removed]",
      "text/plain": [
       "<Figure size 720x576 with 1 Axes>"
      ]
     },
     "metadata": {},
     "output_type": "display_data"
    }
   ],
   "source": [
    "#nous pouvons visualiser cela à l'aide d'un diagramme circulaire\n",
    "df['genres_rcd'].value_counts().plot(kind='pie', figsize =(10,8));\n",
    "plt.title ('Histogramme de fréquence sur le genre des film')\n",
    "plt.xlabel ('Genre')\n",
    "plt.ylabel('')\n",
    "plt.show ()"
   ]
  },
  {
   "cell_type": "markdown",
   "metadata": {},
   "source": [
    "**Commentaire**: ICI nous aurions pu choisir le diagramme en batons pour faire notre représentation mais ce diagramme nous permet de voir et de se situer rappidement sur le genre de film les plus populaire.\n",
    "\n",
    "**Remarque**: Nous voyons clairement que le genres de films qui ont plus de succès sont \"drama\", \"comedy\", \"action\", \"Horror\""
   ]
  },
  {
   "cell_type": "code",
   "execution_count": 28,
   "metadata": {},
   "outputs": [
    {
     "data": {
      "text/plain": [
       "0.6936545218057399"
      ]
     },
     "execution_count": 28,
     "metadata": {},
     "output_type": "execute_result"
    }
   ],
   "source": [
    "#Popularité moyenne\n",
    "df['popularity'].mean()"
   ]
  },
  {
   "cell_type": "code",
   "execution_count": 61,
   "metadata": {},
   "outputs": [
    {
     "data": {
      "image/png": "[encoded data removed]",
      "text/plain": [
       "<Figure size 432x288 with 1 Axes>"
      ]
     },
     "metadata": {
      "needs_background": "light"
     },
     "output_type": "display_data"
    }
   ],
   "source": [
    "#distribution de la popularité\n",
    "df['popularity'].plot(kind = 'hist')\n",
    "plt.title ('Histogramme de fréquence sur la popularité des film')\n",
    "plt.xlabel ('Popularité des films')\n",
    "plt.ylabel ('Fréquence')\n",
    "plt.show ()"
   ]
  },
  {
   "cell_type": "markdown",
   "metadata": {},
   "source": [
    "**Remarque**: On constate que les films noté de 0 à 5 sont les plus populaires"
   ]
  },
  {
   "cell_type": "code",
   "execution_count": 29,
   "metadata": {},
   "outputs": [
    {
     "data": {
      "text/plain": [
       "2000.8927586559084"
      ]
     },
     "execution_count": 29,
     "metadata": {},
     "output_type": "execute_result"
    }
   ],
   "source": [
    "#année moyenne\n",
    "df['release_year'].mean()"
   ]
  },
  {
   "cell_type": "code",
   "execution_count": 42,
   "metadata": {},
   "outputs": [
    {
     "data": {
      "image/png": "[encoded data removed]",
      "text/plain": [
       "<Figure size 432x288 with 1 Axes>"
      ]
     },
     "metadata": {
      "needs_background": "light"
     },
     "output_type": "display_data"
    }
   ],
   "source": [
    "#distribution des années de réalisation\n",
    "df['release_year'].plot(kind='hist')\n",
    "plt.title ('Histogramme de fréquence sur l\\'année de sortie des film')\n",
    "plt.xlabel ('Années de sortie ')\n",
    "plt.ylabel ('Fréquence')\n",
    "plt.show ()"
   ]
  },
  {
   "cell_type": "markdown",
   "metadata": {},
   "source": [
    "**Remarque**: On a plus e films produit de l'année 2000 à l'année 2010"
   ]
  },
  {
   "cell_type": "code",
   "execution_count": 36,
   "metadata": {},
   "outputs": [
    {
     "data": {
      "text/html": [
       "<div>\n",
       "<style scoped>\n",
       "    .dataframe tbody tr th:only-of-type {\n",
       "        vertical-align: middle;\n",
       "    }\n",
       "\n",
       "    .dataframe tbody tr th {\n",
       "        vertical-align: top;\n",
       "    }\n",
       "\n",
       "    .dataframe thead th {\n",
       "        text-align: right;\n",
       "    }\n",
       "</style>\n",
       "<table border=\"1\" class=\"dataframe\">\n",
       "  <thead>\n",
       "    <tr style=\"text-align: right;\">\n",
       "      <th></th>\n",
       "      <th>popularity</th>\n",
       "      <th>runtime</th>\n",
       "      <th>vote_count</th>\n",
       "      <th>vote_average</th>\n",
       "      <th>release_year</th>\n",
       "      <th>budget_adj</th>\n",
       "      <th>revenue_adj</th>\n",
       "    </tr>\n",
       "  </thead>\n",
       "  <tbody>\n",
       "    <tr>\n",
       "      <th>popularity</th>\n",
       "      <td>1.000000</td>\n",
       "      <td>0.156931</td>\n",
       "      <td>0.803002</td>\n",
       "      <td>0.237903</td>\n",
       "      <td>0.110241</td>\n",
       "      <td>0.505643</td>\n",
       "      <td>0.606589</td>\n",
       "    </tr>\n",
       "    <tr>\n",
       "      <th>runtime</th>\n",
       "      <td>0.156931</td>\n",
       "      <td>1.000000</td>\n",
       "      <td>0.184474</td>\n",
       "      <td>0.190529</td>\n",
       "      <td>-0.134131</td>\n",
       "      <td>0.249521</td>\n",
       "      <td>0.198500</td>\n",
       "    </tr>\n",
       "    <tr>\n",
       "      <th>vote_count</th>\n",
       "      <td>0.803002</td>\n",
       "      <td>0.184474</td>\n",
       "      <td>1.000000</td>\n",
       "      <td>0.278887</td>\n",
       "      <td>0.124191</td>\n",
       "      <td>0.580584</td>\n",
       "      <td>0.704121</td>\n",
       "    </tr>\n",
       "    <tr>\n",
       "      <th>vote_average</th>\n",
       "      <td>0.237903</td>\n",
       "      <td>0.190529</td>\n",
       "      <td>0.278887</td>\n",
       "      <td>1.000000</td>\n",
       "      <td>-0.138578</td>\n",
       "      <td>0.108751</td>\n",
       "      <td>0.213767</td>\n",
       "    </tr>\n",
       "    <tr>\n",
       "      <th>release_year</th>\n",
       "      <td>0.110241</td>\n",
       "      <td>-0.134131</td>\n",
       "      <td>0.124191</td>\n",
       "      <td>-0.138578</td>\n",
       "      <td>1.000000</td>\n",
       "      <td>0.035472</td>\n",
       "      <td>-0.056651</td>\n",
       "    </tr>\n",
       "    <tr>\n",
       "      <th>budget_adj</th>\n",
       "      <td>0.505643</td>\n",
       "      <td>0.249521</td>\n",
       "      <td>0.580584</td>\n",
       "      <td>0.108751</td>\n",
       "      <td>0.035472</td>\n",
       "      <td>1.000000</td>\n",
       "      <td>0.640974</td>\n",
       "    </tr>\n",
       "    <tr>\n",
       "      <th>revenue_adj</th>\n",
       "      <td>0.606589</td>\n",
       "      <td>0.198500</td>\n",
       "      <td>0.704121</td>\n",
       "      <td>0.213767</td>\n",
       "      <td>-0.056651</td>\n",
       "      <td>0.640974</td>\n",
       "      <td>1.000000</td>\n",
       "    </tr>\n",
       "  </tbody>\n",
       "</table>\n",
       "</div>"
      ],
      "text/plain": [
       "              popularity   runtime  vote_count  vote_average  release_year  \\\n",
       "popularity      1.000000  0.156931    0.803002      0.237903      0.110241   \n",
       "runtime         0.156931  1.000000    0.184474      0.190529     -0.134131   \n",
       "vote_count      0.803002  0.184474    1.000000      0.278887      0.124191   \n",
       "vote_average    0.237903  0.190529    0.278887      1.000000     -0.138578   \n",
       "release_year    0.110241 -0.134131    0.124191     -0.138578      1.000000   \n",
       "budget_adj      0.505643  0.249521    0.580584      0.108751      0.035472   \n",
       "revenue_adj     0.606589  0.198500    0.704121      0.213767     -0.056651   \n",
       "\n",
       "              budget_adj  revenue_adj  \n",
       "popularity      0.505643     0.606589  \n",
       "runtime         0.249521     0.198500  \n",
       "vote_count      0.580584     0.704121  \n",
       "vote_average    0.108751     0.213767  \n",
       "release_year    0.035472    -0.056651  \n",
       "budget_adj      1.000000     0.640974  \n",
       "revenue_adj     0.640974     1.000000  "
      ]
     },
     "execution_count": 36,
     "metadata": {},
     "output_type": "execute_result"
    }
   ],
   "source": [
    "# Voyonns la corrélation entre la popularité et l'année de réalisation.\n",
    "df.corr()"
   ]
  },
  {
   "cell_type": "markdown",
   "metadata": {},
   "source": [
    "**Remarque**: La corrélation entre la popularité(popularity) et l'année de realisation(release_year) est de 0,110241, donc on peut dire que la popularité et l'année de réalisation ne sont pas fortement corrélés."
   ]
  },
  {
   "cell_type": "code",
   "execution_count": null,
   "metadata": {},
   "outputs": [],
   "source": [
    "#Utilisons les nuages de points pour visualiser ces variables sont corrélées entre elles ou non \n",
    "#et avoir une idée sur les valerurs abbérantes\n",
    "#Mais tou d'abord nous allons définir une fonction nommée (my_scatters) pour ne pas repeter les même codes à chaque fois\n",
    "\n",
    "def my_scatters(col1, col2, lab0, lab1, lab2):\n",
    "    graphe=df.plot(x=col1, y=col2, title=lab0, xlabel=lab1, ylabel=lab2, kind='scatter', figsize =(7,6))\n",
    "    return graphe"
   ]
  },
  {
   "cell_type": "code",
   "execution_count": 44,
   "metadata": {},
   "outputs": [
    {
     "data": {
      "text/plain": [
       "<AxesSubplot:title={'center':\"Nuage de points de la popularité du film et l'année de réalisation du film\"}, xlabel='Popularité du film', ylabel='Année de réalisation du film'>"
      ]
     },
     "execution_count": 44,
     "metadata": {},
     "output_type": "execute_result"
    },
    {
     "data": {
      "image/png": "[encoded data removed]",
      "text/plain": [
       "<Figure size 504x432 with 1 Axes>"
      ]
     },
     "metadata": {
      "needs_background": "light"
     },
     "output_type": "display_data"
    }
   ],
   "source": [
    "#Nuage de points de la popularité du film et l'année de réalisation du film\n",
    "my_scatters('popularity','release_year','Nuage de points de la popularité du film et l\\'année de réalisation du film',\n",
    "            'Popularité du film','Année de réalisation du film')"
   ]
  },
  {
   "cell_type": "markdown",
   "metadata": {},
   "source": [
    "**Discution sur le graphique:** Nous avons choisi ici de faire le nuage de point entre l'année de réalisation du film en fonction de la popularité du film parceque on veut voir d'une façon visuelle la corrélation entre ces deux variables. "
   ]
  },
  {
   "cell_type": "markdown",
   "metadata": {},
   "source": [
    "**Nos remarques se confirment**: On peut donc conclure que c'est pas l'année de réalisation qui rens populaire un film."
   ]
  },
  {
   "cell_type": "code",
   "execution_count": 39,
   "metadata": {},
   "outputs": [
    {
     "data": {
      "text/plain": [
       "genres_rcd\n",
       "Action             0.875259\n",
       "Adventure          1.277373\n",
       "Animation          0.892788\n",
       "Comedy             0.571626\n",
       "Crime              0.719750\n",
       "Documentary        0.208784\n",
       "Drama              0.586798\n",
       "Family             0.783861\n",
       "Fantasy            0.911306\n",
       "Foreign            0.232168\n",
       "History            0.839363\n",
       "Horror             0.487790\n",
       "Music              0.523559\n",
       "Mystery            0.621116\n",
       "Romance            0.786560\n",
       "Science Fiction    1.150894\n",
       "TV Movie           0.267006\n",
       "Thriller           0.691054\n",
       "War                0.789277\n",
       "Western            0.690646\n",
       "Name: popularity, dtype: float64"
      ]
     },
     "execution_count": 39,
     "metadata": {},
     "output_type": "execute_result"
    }
   ],
   "source": [
    "df.groupby(['genres_rcd'])['popularity'].mean()"
   ]
  },
  {
   "cell_type": "code",
   "execution_count": 47,
   "metadata": {},
   "outputs": [
    {
     "data": {
      "image/png": "[encoded data removed]",
      "text/plain": [
       "<Figure size 720x576 with 1 Axes>"
      ]
     },
     "metadata": {
      "needs_background": "light"
     },
     "output_type": "display_data"
    }
   ],
   "source": [
    "df.groupby(['genres_rcd'])['revenue_adj'].mean().plot(kind='bar',figsize =(10,8))\n",
    "plt.title ('diagramme en baton du revenu en fonction du genre de film')\n",
    "plt.xlabel ('Le genre du film')\n",
    "plt.ylabel ('Revenu ajusté du film en euro')\n",
    "plt.show ()"
   ]
  },
  {
   "cell_type": "markdown",
   "metadata": {},
   "source": [
    "**Remarque**: Nous avnos choisi le diagramme en bar ici parcequ'il nous permet de voir diretement les genres de films qui un plus grand revenu. Nous pouvons distinguer à l'aide de ce visuel que les films d'aventures, d'action, de sciences fictions, les desins animés, les films de famille et les films fantastiques sont ceux qui engendrent le plus de revenus."
   ]
  },
  {
   "cell_type": "code",
   "execution_count": 50,
   "metadata": {},
   "outputs": [
    {
     "data": {
      "text/plain": [
       "genres_rcd\n",
       "Action             1999.093243\n",
       "Adventure          1998.323636\n",
       "Animation          2004.445402\n",
       "Comedy             2000.352180\n",
       "Crime              1999.024931\n",
       "Documentary        2007.736059\n",
       "Drama              2001.457323\n",
       "Family             2003.742188\n",
       "Fantasy            1999.047431\n",
       "Foreign            2003.166667\n",
       "History            2003.102564\n",
       "Horror             2000.499414\n",
       "Music              2001.212500\n",
       "Mystery            1999.542373\n",
       "Romance            2003.534161\n",
       "Science Fiction    2000.832487\n",
       "TV Movie           2003.822581\n",
       "Thriller           2005.383966\n",
       "War                1998.947368\n",
       "Western            1986.690476\n",
       "Name: release_year, dtype: float64"
      ]
     },
     "execution_count": 50,
     "metadata": {},
     "output_type": "execute_result"
    }
   ],
   "source": [
    "df.groupby(['genres_rcd'])['release_year'].mean()"
   ]
  },
  {
   "cell_type": "code",
   "execution_count": null,
   "metadata": {},
   "outputs": [],
   "source": []
  },
  {
   "cell_type": "code",
   "execution_count": 45,
   "metadata": {},
   "outputs": [
    {
     "data": {
      "text/plain": [
       "<AxesSubplot:title={'center':'Nuage de points entre le genre et la populatité du film'}, xlabel='Popularité du film', ylabel='Le genre du film'>"
      ]
     },
     "execution_count": 45,
     "metadata": {},
     "output_type": "execute_result"
    },
    {
     "data": {
      "image/png": "[encoded data removed]",
      "text/plain": [
       "<Figure size 504x432 with 1 Axes>"
      ]
     },
     "metadata": {
      "needs_background": "light"
     },
     "output_type": "display_data"
    }
   ],
   "source": [
    "#Nuage de points entre le genre et la populatité du film\n",
    "my_scatters('popularity','genres_rcd','Nuage de points entre le genre et la populatité du film',\n",
    "            'Popularité du film','Le genre du film')"
   ]
  },
  {
   "cell_type": "markdown",
   "metadata": {},
   "source": [
    "> le nuage de point nous montre que la popularité ne dépend pas du genre du film car ces deux variables ne sont pas corrélées "
   ]
  },
  {
   "cell_type": "code",
   "execution_count": 46,
   "metadata": {},
   "outputs": [
    {
     "data": {
      "text/plain": [
       "<AxesSubplot:title={'center':\"Nuage de points entre le genre et l'année de réalisation du film\"}, xlabel=\"L'année de réalisation du film\", ylabel='Le genre du film'>"
      ]
     },
     "execution_count": 46,
     "metadata": {},
     "output_type": "execute_result"
    },
    {
     "data": {
      "image/png": "[encoded data removed]",
      "text/plain": [
       "<Figure size 504x432 with 1 Axes>"
      ]
     },
     "metadata": {
      "needs_background": "light"
     },
     "output_type": "display_data"
    }
   ],
   "source": [
    "#Nuage de points entre le genre et l'année de réalisation du film\n",
    "my_scatters('release_year','genres_rcd','Nuage de points entre le genre et l\\'année de réalisation du film',\n",
    "            'L\\'année de réalisation du film','Le genre du film')\n"
   ]
  },
  {
   "cell_type": "markdown",
   "metadata": {},
   "source": [
    "> Le nuage de point sur la date de réalisation du film et le genre de film montre qu'il y a une forte corrélation entre ces variables"
   ]
  },
  {
   "cell_type": "markdown",
   "metadata": {},
   "source": [
    "## Conclusions.\n",
    "\n",
    "> Donc à la question \"Quels genres de films sont les plus populaires d’année en année?\" Nous reponderons que sur la base des staistiques établis et sur la base des graphiques que nous avons visualiser que le genre de films populaires d'années en années sont du genre : Action, Adventure, Dramatique, Comédie, Thirller, Horror."
   ]
  },
  {
   "cell_type": "markdown",
   "metadata": {},
   "source": [
    "### Question de recherche 2:  Quels types de propriétés sont associés aux films qui ont des revenus élevés?"
   ]
  },
  {
   "cell_type": "markdown",
   "metadata": {
    "collapsed": true
   },
   "source": [
    "> Avant de commencer à répondre à cette question, nous devons, comme ne savons pas d'avance les propréités qui peuvent être associées au films qui ont un revenus élevés, alors nous allons explorer nos données variable par variables par variables pour voir comment répondre à cette question."
   ]
  },
  {
   "cell_type": "code",
   "execution_count": 59,
   "metadata": {},
   "outputs": [
    {
     "data": {
      "text/plain": [
       "56943516.76267258"
      ]
     },
     "execution_count": 59,
     "metadata": {},
     "output_type": "execute_result"
    }
   ],
   "source": [
    "#calculons le revenu moyen :\n",
    "df['revenue_adj'].mean()"
   ]
  },
  {
   "cell_type": "code",
   "execution_count": 60,
   "metadata": {},
   "outputs": [
    {
     "data": {
      "text/plain": [
       "19379096.418828297"
      ]
     },
     "execution_count": 60,
     "metadata": {},
     "output_type": "execute_result"
    }
   ],
   "source": [
    "#budget moyen\n",
    "df['budget_adj'].mean()"
   ]
  },
  {
   "cell_type": "code",
   "execution_count": 61,
   "metadata": {},
   "outputs": [
    {
     "data": {
      "text/plain": [
       "5.964988254519463"
      ]
     },
     "execution_count": 61,
     "metadata": {},
     "output_type": "execute_result"
    }
   ],
   "source": [
    "#vote moyen\n",
    "df['vote_average'].mean()"
   ]
  },
  {
   "cell_type": "code",
   "execution_count": 62,
   "metadata": {},
   "outputs": [
    {
     "data": {
      "text/plain": [
       "Drama              2226\n",
       "Comedy             2087\n",
       "Action             1480\n",
       "Horror              853\n",
       "Adventure           550\n",
       "Thriller            474\n",
       "Crime               361\n",
       "Animation           348\n",
       "Documentary         269\n",
       "Fantasy             253\n",
       "Science Fiction     197\n",
       "Romance             161\n",
       "Family              128\n",
       "Mystery             118\n",
       "Music                80\n",
       "TV Movie             62\n",
       "War                  57\n",
       "Western              42\n",
       "History              39\n",
       "Foreign               6\n",
       "Name: genres_rcd, dtype: int64"
      ]
     },
     "execution_count": 62,
     "metadata": {},
     "output_type": "execute_result"
    }
   ],
   "source": [
    "df['genres_rcd'].value_counts()"
   ]
  },
  {
   "cell_type": "code",
   "execution_count": 20,
   "metadata": {},
   "outputs": [
    {
     "data": {
      "image/png": "[encoded data removed]",
      "text/plain": [
       "<Figure size 432x288 with 1 Axes>"
      ]
     },
     "metadata": {
      "needs_background": "light"
     },
     "output_type": "display_data"
    }
   ],
   "source": [
    "df['budget_adj'].plot(kind='hist')\n",
    "plt.title ('Histogramme de fréquence sur le budget des film')\n",
    "plt.xlabel ('Budget')\n",
    "plt.ylabel ('Fréquence')\n",
    "plt.show ()"
   ]
  },
  {
   "cell_type": "markdown",
   "metadata": {},
   "source": []
  },
  {
   "cell_type": "code",
   "execution_count": 21,
   "metadata": {},
   "outputs": [
    {
     "data": {
      "image/png": "[encoded data removed]",
      "text/plain": [
       "<Figure size 432x288 with 1 Axes>"
      ]
     },
     "metadata": {
      "needs_background": "light"
     },
     "output_type": "display_data"
    }
   ],
   "source": [
    "df['vote_average'].plot(kind='hist')\n",
    "plt.title ('Histogramme de fréquence sur le vote des film')\n",
    "plt.xlabel ('Vote')\n",
    "plt.ylabel ('Fréquences')\n",
    "plt.show ()"
   ]
  },
  {
   "cell_type": "markdown",
   "metadata": {},
   "source": []
  },
  {
   "cell_type": "markdown",
   "metadata": {},
   "source": [
    "## Commentaires\n",
    "\n",
    "> Au vue des statistiques que nous venons d'établire et les graphes que nous avons tracés, le revenu moyen des films tourne autours de 56943517 Euro. le budjet aloué aux films tourne autours de 19379096 Euro. Le vote moyen est de 6 et semble être normalement distribué. Ce sont les films du genre Drama, Comedy, Action, Horror qui le plus de succès sur le marché            "
   ]
  },
  {
   "cell_type": "markdown",
   "metadata": {},
   "source": [
    "> L'étape suivante est de croiser les variablesque nous avons exploré avec le revenu."
   ]
  },
  {
   "cell_type": "code",
   "execution_count": 65,
   "metadata": {},
   "outputs": [
    {
     "data": {
      "text/html": [
       "<div>\n",
       "<style scoped>\n",
       "    .dataframe tbody tr th:only-of-type {\n",
       "        vertical-align: middle;\n",
       "    }\n",
       "\n",
       "    .dataframe tbody tr th {\n",
       "        vertical-align: top;\n",
       "    }\n",
       "\n",
       "    .dataframe thead th {\n",
       "        text-align: right;\n",
       "    }\n",
       "</style>\n",
       "<table border=\"1\" class=\"dataframe\">\n",
       "  <thead>\n",
       "    <tr style=\"text-align: right;\">\n",
       "      <th></th>\n",
       "      <th>popularity</th>\n",
       "      <th>runtime</th>\n",
       "      <th>vote_count</th>\n",
       "      <th>vote_average</th>\n",
       "      <th>release_year</th>\n",
       "      <th>budget_adj</th>\n",
       "      <th>revenue_adj</th>\n",
       "    </tr>\n",
       "  </thead>\n",
       "  <tbody>\n",
       "    <tr>\n",
       "      <th>popularity</th>\n",
       "      <td>1.000000</td>\n",
       "      <td>0.156931</td>\n",
       "      <td>0.803002</td>\n",
       "      <td>0.237903</td>\n",
       "      <td>0.110241</td>\n",
       "      <td>0.505643</td>\n",
       "      <td>0.606589</td>\n",
       "    </tr>\n",
       "    <tr>\n",
       "      <th>runtime</th>\n",
       "      <td>0.156931</td>\n",
       "      <td>1.000000</td>\n",
       "      <td>0.184474</td>\n",
       "      <td>0.190529</td>\n",
       "      <td>-0.134131</td>\n",
       "      <td>0.249521</td>\n",
       "      <td>0.198500</td>\n",
       "    </tr>\n",
       "    <tr>\n",
       "      <th>vote_count</th>\n",
       "      <td>0.803002</td>\n",
       "      <td>0.184474</td>\n",
       "      <td>1.000000</td>\n",
       "      <td>0.278887</td>\n",
       "      <td>0.124191</td>\n",
       "      <td>0.580584</td>\n",
       "      <td>0.704121</td>\n",
       "    </tr>\n",
       "    <tr>\n",
       "      <th>vote_average</th>\n",
       "      <td>0.237903</td>\n",
       "      <td>0.190529</td>\n",
       "      <td>0.278887</td>\n",
       "      <td>1.000000</td>\n",
       "      <td>-0.138578</td>\n",
       "      <td>0.108751</td>\n",
       "      <td>0.213767</td>\n",
       "    </tr>\n",
       "    <tr>\n",
       "      <th>release_year</th>\n",
       "      <td>0.110241</td>\n",
       "      <td>-0.134131</td>\n",
       "      <td>0.124191</td>\n",
       "      <td>-0.138578</td>\n",
       "      <td>1.000000</td>\n",
       "      <td>0.035472</td>\n",
       "      <td>-0.056651</td>\n",
       "    </tr>\n",
       "    <tr>\n",
       "      <th>budget_adj</th>\n",
       "      <td>0.505643</td>\n",
       "      <td>0.249521</td>\n",
       "      <td>0.580584</td>\n",
       "      <td>0.108751</td>\n",
       "      <td>0.035472</td>\n",
       "      <td>1.000000</td>\n",
       "      <td>0.640974</td>\n",
       "    </tr>\n",
       "    <tr>\n",
       "      <th>revenue_adj</th>\n",
       "      <td>0.606589</td>\n",
       "      <td>0.198500</td>\n",
       "      <td>0.704121</td>\n",
       "      <td>0.213767</td>\n",
       "      <td>-0.056651</td>\n",
       "      <td>0.640974</td>\n",
       "      <td>1.000000</td>\n",
       "    </tr>\n",
       "  </tbody>\n",
       "</table>\n",
       "</div>"
      ],
      "text/plain": [
       "              popularity   runtime  vote_count  vote_average  release_year  \\\n",
       "popularity      1.000000  0.156931    0.803002      0.237903      0.110241   \n",
       "runtime         0.156931  1.000000    0.184474      0.190529     -0.134131   \n",
       "vote_count      0.803002  0.184474    1.000000      0.278887      0.124191   \n",
       "vote_average    0.237903  0.190529    0.278887      1.000000     -0.138578   \n",
       "release_year    0.110241 -0.134131    0.124191     -0.138578      1.000000   \n",
       "budget_adj      0.505643  0.249521    0.580584      0.108751      0.035472   \n",
       "revenue_adj     0.606589  0.198500    0.704121      0.213767     -0.056651   \n",
       "\n",
       "              budget_adj  revenue_adj  \n",
       "popularity      0.505643     0.606589  \n",
       "runtime         0.249521     0.198500  \n",
       "vote_count      0.580584     0.704121  \n",
       "vote_average    0.108751     0.213767  \n",
       "release_year    0.035472    -0.056651  \n",
       "budget_adj      1.000000     0.640974  \n",
       "revenue_adj     0.640974     1.000000  "
      ]
     },
     "execution_count": 65,
     "metadata": {},
     "output_type": "execute_result"
    }
   ],
   "source": [
    "# Nous allons commencer par la matrice de corrélation\n",
    "df.corr()"
   ]
  },
  {
   "cell_type": "markdown",
   "metadata": {},
   "source": [
    "> **Remarque**: Nous pouvons voir clairement avec la matrice de corrélation qu'il y'a une forte corrélation entre le revenu du films et la popularité, la corrélation est aussi importante entre le revenu et le nombre de vote et enfin le budjet est fortement corrélé avec le revenu.\n"
   ]
  },
  {
   "cell_type": "code",
   "execution_count": 43,
   "metadata": {},
   "outputs": [
    {
     "data": {
      "text/plain": [
       "<AxesSubplot:title={'center':'Nuage de points sur le budget ajusté et le revenu ajusté'}, xlabel='Budget ajusté', ylabel='Revenue ajusté'>"
      ]
     },
     "execution_count": 43,
     "metadata": {},
     "output_type": "execute_result"
    },
    {
     "data": {
      "image/png": "[encoded data removed]",
      "text/plain": [
       "<Figure size 504x432 with 1 Axes>"
      ]
     },
     "metadata": {
      "needs_background": "light"
     },
     "output_type": "display_data"
    }
   ],
   "source": [
    "#Nuage de points sur le revenu ajusté et le busget ajusté.\n",
    "my_scatters('budget_adj','revenue_adj', 'Nuage de points sur le budget ajusté et le revenu ajusté',\n",
    "            'Budget ajusté', 'Revenue ajusté')"
   ]
  },
  {
   "cell_type": "markdown",
   "metadata": {},
   "source": [
    "Nous pouvons voir qu'il y a une forte corrélation entre le budget ajusté et le revenu ajusté cépendant on remarque que il y a certaint budgets et revenus qui sortent du commun.  "
   ]
  },
  {
   "cell_type": "code",
   "execution_count": 47,
   "metadata": {},
   "outputs": [
    {
     "data": {
      "text/plain": [
       "<AxesSubplot:title={'center':'Nuage de points sur la popularité du film et le revenu ajusté'}, xlabel='Popularité du film', ylabel='Revenue ajusté'>"
      ]
     },
     "execution_count": 47,
     "metadata": {},
     "output_type": "execute_result"
    },
    {
     "data": {
      "image/png": "[encoded data removed]",
      "text/plain": [
       "<Figure size 504x432 with 1 Axes>"
      ]
     },
     "metadata": {
      "needs_background": "light"
     },
     "output_type": "display_data"
    }
   ],
   "source": [
    "#Nuage de points sur la popularité et le revenu Ajusté\n",
    "my_scatters('popularity','revenue_adj', 'Nuage de points sur la popularité du film et le revenu ajusté',\n",
    "            'Popularité du film', 'Revenue ajusté')"
   ]
  },
  {
   "cell_type": "markdown",
   "metadata": {},
   "source": [
    "On peut également remarque aussi que il y a une corrélation significative entre le fait que le film soit populaire et son revenu"
   ]
  },
  {
   "cell_type": "code",
   "execution_count": 50,
   "metadata": {},
   "outputs": [
    {
     "data": {
      "text/plain": [
       "<AxesSubplot:title={'center':'Nuage de points sur le nombre de vote et le revenu ajusté'}, xlabel='Nombre de Vote', ylabel='Revenue ajusté'>"
      ]
     },
     "execution_count": 50,
     "metadata": {},
     "output_type": "execute_result"
    },
    {
     "data": {
      "image/png": "[encoded data removed]",
      "text/plain": [
       "<Figure size 504x432 with 1 Axes>"
      ]
     },
     "metadata": {
      "needs_background": "light"
     },
     "output_type": "display_data"
    }
   ],
   "source": [
    "#Nuage de points sur le nombre de vote et le revenu ajusté\n",
    "my_scatters('vote_count','revenue_adj', 'Nuage de points sur le nombre de vote et le revenu ajusté',\n",
    "            'Nombre de Vote', 'Revenue ajusté')"
   ]
  },
  {
   "cell_type": "markdown",
   "metadata": {},
   "source": [
    "On remarque que le nombre de vote peut toutes fois influencer le revenu du film"
   ]
  },
  {
   "cell_type": "markdown",
   "metadata": {},
   "source": [
    "> **Commentaires**:\n",
    "Ces nuages de points ne fons que nous confirmer que il y'a une forte corrélation entre le revenu et le nombre de vote ainsi que la popularité et le budget.\n",
    "\n",
    "> Nous pouvons faire une petite conclusion en disant que les types de propriétés qui sont associés aux films qui ont des revenus élevés sont : le nombre de vote (vote_count), la popularité du film (Popularity) et le budget."
   ]
  },
  {
   "cell_type": "markdown",
   "metadata": {},
   "source": [
    "<a id='conclusions'></a>\n",
    "## Conclusions\n",
    "\n",
    ">**Dans cette étude, Nous avons Analysé les données du site TMDB de films repertorient les informations sur les films produits entre 1960 et 2015. Cet ensemble de données contient des informations sur 10 000 films collectés à partir de The Movie Database (TMDb), y compris les évaluations des utilisateurs et les revenu.**\n",
    "\n",
    ">**Nous avons principalement étudié 2 questions. La première était de savoir le genres de films qui sont les plus populaires d’année en année et la seconde question concernait les types de propriétés  associés aux films qui ont des revenus élevés.**\n",
    "\n",
    ">**Nous pouvons conclure pour la première question que sur la base des staistiques établis et sur la base des graphiques que nous avons visualiser que les films d'action, les films d'aventure, les films du genre dramatique, ceux du genre comiques, et les films d'horreur sont les plus populaires sur le marchées et sont ceux qui ont le plus de succès car ils sont les plus nombreux à être produits par les compagnies de production.**\n",
    "\n",
    ">**A la deuxième question toujous sur la base des stataistiques établies, nous pouvons conclure que les films qui ont un revenu élevé on également un nombre de vote élevé, quand le film deviens de plus en plus populaire son revenu augmente, nous povons conclure également que plus on met de grand moyens c'est-à-dire quand on met un grand budget dans la réalisation d'un film ce film rapport beaucoup mais nous pouvons être flexible en disant que cela ne fait pas l'unanimité car on peut toutes fois investir beaucoup dans un film et qu'il n'apporte rien du tout.**\n",
    "\n",
    "### Limites rencontrées \n",
    ">**Lors de notre analyse, nous avons voulus savoir si le fait qu'un acteur donné participe à la réalisation d'un film rend ce dernier populaire autrement dit, nous avons voulus voir le lien qui existe entre l'équipe du casting et la popularité du film mais quand nous avons calculé les statistiques et vusualiser les données, les résultats n'étaitent pas parlant.**\n",
    "\n"
   ]
  },
  {
   "cell_type": "code",
   "execution_count": null,
   "metadata": {},
   "outputs": [],
   "source": []
  }
 ],
 "metadata": {
  "kernelspec": {
   "display_name": "Python 3 (ipykernel)",
   "language": "python",
   "name": "python3"
  },
  "language_info": {
   "codemirror_mode": {
    "name": "ipython",
    "version": 3
   },
   "file_extension": ".py",
   "mimetype": "text/x-python",
   "name": "python",
   "nbconvert_exporter": "python",
   "pygments_lexer": "ipython3",
   "version": "3.9.12"
  }
 },
 "nbformat": 4,
 "nbformat_minor": 2
}
